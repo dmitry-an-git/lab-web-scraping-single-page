{
 "cells": [
  {
   "cell_type": "code",
   "execution_count": 1,
   "id": "6b7ed471",
   "metadata": {},
   "outputs": [],
   "source": [
    "import pandas as pd\n",
    "import numpy as np"
   ]
  },
  {
   "cell_type": "code",
   "execution_count": 2,
   "id": "d9daea51",
   "metadata": {},
   "outputs": [
    {
     "data": {
      "text/html": [
       "<div>\n",
       "<style scoped>\n",
       "    .dataframe tbody tr th:only-of-type {\n",
       "        vertical-align: middle;\n",
       "    }\n",
       "\n",
       "    .dataframe tbody tr th {\n",
       "        vertical-align: top;\n",
       "    }\n",
       "\n",
       "    .dataframe thead th {\n",
       "        text-align: right;\n",
       "    }\n",
       "</style>\n",
       "<table border=\"1\" class=\"dataframe\">\n",
       "  <thead>\n",
       "    <tr style=\"text-align: right;\">\n",
       "      <th></th>\n",
       "      <th>0</th>\n",
       "      <th>1</th>\n",
       "      <th>2</th>\n",
       "      <th>3</th>\n",
       "    </tr>\n",
       "  </thead>\n",
       "  <tbody>\n",
       "    <tr>\n",
       "      <th>0</th>\n",
       "      <td>TRMMMYQ128F932D901</td>\n",
       "      <td>SOQMMHC12AB0180CB8</td>\n",
       "      <td>Faster Pussy cat</td>\n",
       "      <td>Silent Night</td>\n",
       "    </tr>\n",
       "    <tr>\n",
       "      <th>1</th>\n",
       "      <td>TRMMMKD128F425225D</td>\n",
       "      <td>SOVFVAK12A8C1350D9</td>\n",
       "      <td>Karkkiautomaatti</td>\n",
       "      <td>Tanssi vaan</td>\n",
       "    </tr>\n",
       "    <tr>\n",
       "      <th>2</th>\n",
       "      <td>TRMMMRX128F93187D9</td>\n",
       "      <td>SOGTUKN12AB017F4F1</td>\n",
       "      <td>Hudson Mohawke</td>\n",
       "      <td>No One Could Ever</td>\n",
       "    </tr>\n",
       "    <tr>\n",
       "      <th>3</th>\n",
       "      <td>TRMMMCH128F425532C</td>\n",
       "      <td>SOBNYVR12A8C13558C</td>\n",
       "      <td>Yerba Brava</td>\n",
       "      <td>Si Vos Querés</td>\n",
       "    </tr>\n",
       "    <tr>\n",
       "      <th>4</th>\n",
       "      <td>TRMMMWA128F426B589</td>\n",
       "      <td>SOHSBXH12A8C13B0DF</td>\n",
       "      <td>Der Mystic</td>\n",
       "      <td>Tangle Of Aspens</td>\n",
       "    </tr>\n",
       "  </tbody>\n",
       "</table>\n",
       "</div>"
      ],
      "text/plain": [
       "                    0                   1                 2                  3\n",
       "0  TRMMMYQ128F932D901  SOQMMHC12AB0180CB8  Faster Pussy cat       Silent Night\n",
       "1  TRMMMKD128F425225D  SOVFVAK12A8C1350D9  Karkkiautomaatti        Tanssi vaan\n",
       "2  TRMMMRX128F93187D9  SOGTUKN12AB017F4F1    Hudson Mohawke  No One Could Ever\n",
       "3  TRMMMCH128F425532C  SOBNYVR12A8C13558C       Yerba Brava      Si Vos Querés\n",
       "4  TRMMMWA128F426B589  SOHSBXH12A8C13B0DF        Der Mystic   Tangle Of Aspens"
      ]
     },
     "execution_count": 2,
     "metadata": {},
     "output_type": "execute_result"
    }
   ],
   "source": [
    "data = pd.read_csv('unique_tracks.txt',header=None, sep = '<SEP>', engine='python')\n",
    "data.head()"
   ]
  },
  {
   "cell_type": "code",
   "execution_count": 3,
   "id": "01ba1bd3",
   "metadata": {},
   "outputs": [
    {
     "data": {
      "text/plain": [
       "(1000000, 4)"
      ]
     },
     "execution_count": 3,
     "metadata": {},
     "output_type": "execute_result"
    }
   ],
   "source": [
    "data.shape"
   ]
  },
  {
   "cell_type": "code",
   "execution_count": 4,
   "id": "d4e9749c",
   "metadata": {},
   "outputs": [
    {
     "data": {
      "text/html": [
       "<div>\n",
       "<style scoped>\n",
       "    .dataframe tbody tr th:only-of-type {\n",
       "        vertical-align: middle;\n",
       "    }\n",
       "\n",
       "    .dataframe tbody tr th {\n",
       "        vertical-align: top;\n",
       "    }\n",
       "\n",
       "    .dataframe thead th {\n",
       "        text-align: right;\n",
       "    }\n",
       "</style>\n",
       "<table border=\"1\" class=\"dataframe\">\n",
       "  <thead>\n",
       "    <tr style=\"text-align: right;\">\n",
       "      <th></th>\n",
       "      <th>0</th>\n",
       "      <th>1</th>\n",
       "      <th>2</th>\n",
       "      <th>3</th>\n",
       "    </tr>\n",
       "  </thead>\n",
       "  <tbody>\n",
       "    <tr>\n",
       "      <th>722110</th>\n",
       "      <td>TRJSKXR128F42A10AE</td>\n",
       "      <td>SOGAGJV12A8C13FBE7</td>\n",
       "      <td>Keep Of Kalessin</td>\n",
       "      <td>Den Siste Krig</td>\n",
       "    </tr>\n",
       "    <tr>\n",
       "      <th>426378</th>\n",
       "      <td>TRAGBED128F4228FDE</td>\n",
       "      <td>SOYGLZC12A8AE44B98</td>\n",
       "      <td>Gonzoe</td>\n",
       "      <td>Rep Yo' Hood</td>\n",
       "    </tr>\n",
       "    <tr>\n",
       "      <th>970220</th>\n",
       "      <td>TRYREZV128F1458A42</td>\n",
       "      <td>SOTSSWX12A6D4F6492</td>\n",
       "      <td>Sid Vicious</td>\n",
       "      <td>Take A Chance On Me</td>\n",
       "    </tr>\n",
       "    <tr>\n",
       "      <th>522199</th>\n",
       "      <td>TRPTNYQ128F14A7B0D</td>\n",
       "      <td>SOCWMXX12A6D4FB903</td>\n",
       "      <td>Frank London´s Klezmer Brass Allstars</td>\n",
       "      <td>Slow Hasidic Nign</td>\n",
       "    </tr>\n",
       "    <tr>\n",
       "      <th>687500</th>\n",
       "      <td>TREOFWF128F4286680</td>\n",
       "      <td>SOBFFCK12A8C13A03E</td>\n",
       "      <td>Joy Division</td>\n",
       "      <td>Love Will Tear Us Apart (Album Version)</td>\n",
       "    </tr>\n",
       "  </tbody>\n",
       "</table>\n",
       "</div>"
      ],
      "text/plain": [
       "                         0                   1  \\\n",
       "722110  TRJSKXR128F42A10AE  SOGAGJV12A8C13FBE7   \n",
       "426378  TRAGBED128F4228FDE  SOYGLZC12A8AE44B98   \n",
       "970220  TRYREZV128F1458A42  SOTSSWX12A6D4F6492   \n",
       "522199  TRPTNYQ128F14A7B0D  SOCWMXX12A6D4FB903   \n",
       "687500  TREOFWF128F4286680  SOBFFCK12A8C13A03E   \n",
       "\n",
       "                                            2  \\\n",
       "722110                       Keep Of Kalessin   \n",
       "426378                                 Gonzoe   \n",
       "970220                            Sid Vicious   \n",
       "522199  Frank London´s Klezmer Brass Allstars   \n",
       "687500                           Joy Division   \n",
       "\n",
       "                                              3  \n",
       "722110                           Den Siste Krig  \n",
       "426378                             Rep Yo' Hood  \n",
       "970220                      Take A Chance On Me  \n",
       "522199                        Slow Hasidic Nign  \n",
       "687500  Love Will Tear Us Apart (Album Version)  "
      ]
     },
     "execution_count": 4,
     "metadata": {},
     "output_type": "execute_result"
    }
   ],
   "source": [
    "data2 = data.sample(n=5000)\n",
    "data2.head()"
   ]
  },
  {
   "cell_type": "code",
   "execution_count": 5,
   "id": "d9e6cc64",
   "metadata": {},
   "outputs": [
    {
     "data": {
      "text/html": [
       "<div>\n",
       "<style scoped>\n",
       "    .dataframe tbody tr th:only-of-type {\n",
       "        vertical-align: middle;\n",
       "    }\n",
       "\n",
       "    .dataframe tbody tr th {\n",
       "        vertical-align: top;\n",
       "    }\n",
       "\n",
       "    .dataframe thead th {\n",
       "        text-align: right;\n",
       "    }\n",
       "</style>\n",
       "<table border=\"1\" class=\"dataframe\">\n",
       "  <thead>\n",
       "    <tr style=\"text-align: right;\">\n",
       "      <th></th>\n",
       "      <th>singer</th>\n",
       "      <th>song</th>\n",
       "    </tr>\n",
       "  </thead>\n",
       "  <tbody>\n",
       "    <tr>\n",
       "      <th>722110</th>\n",
       "      <td>Keep Of Kalessin</td>\n",
       "      <td>Den Siste Krig</td>\n",
       "    </tr>\n",
       "    <tr>\n",
       "      <th>426378</th>\n",
       "      <td>Gonzoe</td>\n",
       "      <td>Rep Yo' Hood</td>\n",
       "    </tr>\n",
       "    <tr>\n",
       "      <th>970220</th>\n",
       "      <td>Sid Vicious</td>\n",
       "      <td>Take A Chance On Me</td>\n",
       "    </tr>\n",
       "    <tr>\n",
       "      <th>522199</th>\n",
       "      <td>Frank London´s Klezmer Brass Allstars</td>\n",
       "      <td>Slow Hasidic Nign</td>\n",
       "    </tr>\n",
       "    <tr>\n",
       "      <th>687500</th>\n",
       "      <td>Joy Division</td>\n",
       "      <td>Love Will Tear Us Apart (Album Version)</td>\n",
       "    </tr>\n",
       "  </tbody>\n",
       "</table>\n",
       "</div>"
      ],
      "text/plain": [
       "                                       singer  \\\n",
       "722110                       Keep Of Kalessin   \n",
       "426378                                 Gonzoe   \n",
       "970220                            Sid Vicious   \n",
       "522199  Frank London´s Klezmer Brass Allstars   \n",
       "687500                           Joy Division   \n",
       "\n",
       "                                           song  \n",
       "722110                           Den Siste Krig  \n",
       "426378                             Rep Yo' Hood  \n",
       "970220                      Take A Chance On Me  \n",
       "522199                        Slow Hasidic Nign  \n",
       "687500  Love Will Tear Us Apart (Album Version)  "
      ]
     },
     "execution_count": 5,
     "metadata": {},
     "output_type": "execute_result"
    }
   ],
   "source": [
    "data2=data2.rename(columns={0:'dropped',1:'dropped2',2:'singer',3:'song'})\n",
    "data2.drop(['dropped','dropped2'],axis=1,inplace=True)\n",
    "data2.head()"
   ]
  },
  {
   "cell_type": "code",
   "execution_count": 6,
   "id": "c91e10ec",
   "metadata": {},
   "outputs": [
    {
     "ename": "SyntaxError",
     "evalue": "invalid syntax (1314891652.py, line 2)",
     "output_type": "error",
     "traceback": [
      "\u001b[0;36m  File \u001b[0;32m\"/var/folders/40/fpzt8rqs1hd_nf7fht4s6n240000gn/T/ipykernel_1751/1314891652.py\"\u001b[0;36m, line \u001b[0;32m2\u001b[0m\n\u001b[0;31m    data2.\u001b[0m\n\u001b[0m          ^\u001b[0m\n\u001b[0;31mSyntaxError\u001b[0m\u001b[0;31m:\u001b[0m invalid syntax\n"
     ]
    }
   ],
   "source": [
    "data2.reset_index(drop=True, inplace=True)\n",
    "data2."
   ]
  },
  {
   "cell_type": "code",
   "execution_count": 7,
   "id": "cdd6ad16",
   "metadata": {},
   "outputs": [],
   "source": [
    "data2.to_csv('not_so_hot.csv')"
   ]
  },
  {
   "cell_type": "code",
   "execution_count": null,
   "id": "fb31804e",
   "metadata": {},
   "outputs": [],
   "source": []
  }
 ],
 "metadata": {
  "kernelspec": {
   "display_name": "Python 3 (ipykernel)",
   "language": "python",
   "name": "python3"
  },
  "language_info": {
   "codemirror_mode": {
    "name": "ipython",
    "version": 3
   },
   "file_extension": ".py",
   "mimetype": "text/x-python",
   "name": "python",
   "nbconvert_exporter": "python",
   "pygments_lexer": "ipython3",
   "version": "3.9.7"
  }
 },
 "nbformat": 4,
 "nbformat_minor": 5
}
