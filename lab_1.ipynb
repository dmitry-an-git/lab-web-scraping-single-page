{
 "cells": [
  {
   "cell_type": "code",
   "execution_count": 1,
   "id": "81545ffc",
   "metadata": {},
   "outputs": [],
   "source": [
    "from bs4 import BeautifulSoup\n",
    "import requests\n",
    "import pandas as pd"
   ]
  },
  {
   "cell_type": "code",
   "execution_count": 55,
   "id": "fa50304c",
   "metadata": {},
   "outputs": [],
   "source": [
    "def scrape_hot100():\n",
    "    url = \"https://www.billboard.com/charts/hot-100/\"\n",
    "    response = requests.get(url)\n",
    "    if response.status_code != 200:\n",
    "        print('bad request')\n",
    "    else: \n",
    "        soup = BeautifulSoup(response.content, 'html.parser') \n",
    "        songs = []\n",
    "        artists = []\n",
    "        for tag in soup.select('li[class*=\"o-chart-results-list__item // lrv-u-flex-grow-1\"]'):\n",
    "            songs.append(tag.select(\"h3\")[0].get_text().strip('\\n\\t'))\n",
    "            artists.append(tag.select(\"span\")[0].get_text().strip('\\n\\t'))\n",
    "        top100 = pd.DataFrame({#\"place\":numbers,\n",
    "                       \"song\":songs,\n",
    "                       \"artist\":artists\n",
    "                      })\n",
    "    return top100.head()"
   ]
  },
  {
   "cell_type": "code",
   "execution_count": 56,
   "id": "1e4dcc12",
   "metadata": {},
   "outputs": [
    {
     "data": {
      "text/html": [
       "<div>\n",
       "<style scoped>\n",
       "    .dataframe tbody tr th:only-of-type {\n",
       "        vertical-align: middle;\n",
       "    }\n",
       "\n",
       "    .dataframe tbody tr th {\n",
       "        vertical-align: top;\n",
       "    }\n",
       "\n",
       "    .dataframe thead th {\n",
       "        text-align: right;\n",
       "    }\n",
       "</style>\n",
       "<table border=\"1\" class=\"dataframe\">\n",
       "  <thead>\n",
       "    <tr style=\"text-align: right;\">\n",
       "      <th></th>\n",
       "      <th>song</th>\n",
       "      <th>artist</th>\n",
       "    </tr>\n",
       "  </thead>\n",
       "  <tbody>\n",
       "    <tr>\n",
       "      <th>0</th>\n",
       "      <td>As It Was</td>\n",
       "      <td>Harry Styles</td>\n",
       "    </tr>\n",
       "    <tr>\n",
       "      <th>1</th>\n",
       "      <td>First Class</td>\n",
       "      <td>Jack Harlow</td>\n",
       "    </tr>\n",
       "    <tr>\n",
       "      <th>2</th>\n",
       "      <td>Wait For U</td>\n",
       "      <td>Future Featuring Drake &amp; Tems</td>\n",
       "    </tr>\n",
       "    <tr>\n",
       "      <th>3</th>\n",
       "      <td>Late Night Talking</td>\n",
       "      <td>Harry Styles</td>\n",
       "    </tr>\n",
       "    <tr>\n",
       "      <th>4</th>\n",
       "      <td>About Damn Time</td>\n",
       "      <td>Lizzo</td>\n",
       "    </tr>\n",
       "  </tbody>\n",
       "</table>\n",
       "</div>"
      ],
      "text/plain": [
       "                 song                         artist\n",
       "0           As It Was                   Harry Styles\n",
       "1         First Class                    Jack Harlow\n",
       "2          Wait For U  Future Featuring Drake & Tems\n",
       "3  Late Night Talking                   Harry Styles\n",
       "4     About Damn Time                          Lizzo"
      ]
     },
     "execution_count": 56,
     "metadata": {},
     "output_type": "execute_result"
    }
   ],
   "source": [
    "scrape_hot100()"
   ]
  },
  {
   "cell_type": "code",
   "execution_count": 57,
   "id": "ca75f6e6",
   "metadata": {},
   "outputs": [
    {
     "data": {
      "text/html": [
       "<div>\n",
       "<style scoped>\n",
       "    .dataframe tbody tr th:only-of-type {\n",
       "        vertical-align: middle;\n",
       "    }\n",
       "\n",
       "    .dataframe tbody tr th {\n",
       "        vertical-align: top;\n",
       "    }\n",
       "\n",
       "    .dataframe thead th {\n",
       "        text-align: right;\n",
       "    }\n",
       "</style>\n",
       "<table border=\"1\" class=\"dataframe\">\n",
       "  <thead>\n",
       "    <tr style=\"text-align: right;\">\n",
       "      <th></th>\n",
       "      <th>song</th>\n",
       "      <th>artist</th>\n",
       "    </tr>\n",
       "  </thead>\n",
       "  <tbody>\n",
       "    <tr>\n",
       "      <th>95</th>\n",
       "      <td>Otro Atardecer</td>\n",
       "      <td>Bad Bunny &amp; The Marias</td>\n",
       "    </tr>\n",
       "    <tr>\n",
       "      <th>96</th>\n",
       "      <td>We Cry Together</td>\n",
       "      <td>Kendrick Lamar &amp; Taylour Paige</td>\n",
       "    </tr>\n",
       "    <tr>\n",
       "      <th>97</th>\n",
       "      <td>Dos Mil 16</td>\n",
       "      <td>Bad Bunny</td>\n",
       "    </tr>\n",
       "    <tr>\n",
       "      <th>98</th>\n",
       "      <td>DFMU</td>\n",
       "      <td>Ella Mai</td>\n",
       "    </tr>\n",
       "    <tr>\n",
       "      <th>99</th>\n",
       "      <td>Hate Our Love</td>\n",
       "      <td>Queen Naija &amp; Big Sean</td>\n",
       "    </tr>\n",
       "  </tbody>\n",
       "</table>\n",
       "</div>"
      ],
      "text/plain": [
       "               song                          artist\n",
       "95   Otro Atardecer          Bad Bunny & The Marias\n",
       "96  We Cry Together  Kendrick Lamar & Taylour Paige\n",
       "97       Dos Mil 16                       Bad Bunny\n",
       "98             DFMU                        Ella Mai\n",
       "99    Hate Our Love          Queen Naija & Big Sean"
      ]
     },
     "execution_count": 57,
     "metadata": {},
     "output_type": "execute_result"
    }
   ],
   "source": [
    "top100.tail()"
   ]
  },
  {
   "cell_type": "code",
   "execution_count": 58,
   "id": "3d20b4c1",
   "metadata": {},
   "outputs": [],
   "source": [
    "top100.to_csv('top100.csv')"
   ]
  },
  {
   "cell_type": "code",
   "execution_count": null,
   "id": "a88eb533",
   "metadata": {},
   "outputs": [],
   "source": []
  }
 ],
 "metadata": {
  "kernelspec": {
   "display_name": "Python 3 (ipykernel)",
   "language": "python",
   "name": "python3"
  },
  "language_info": {
   "codemirror_mode": {
    "name": "ipython",
    "version": 3
   },
   "file_extension": ".py",
   "mimetype": "text/x-python",
   "name": "python",
   "nbconvert_exporter": "python",
   "pygments_lexer": "ipython3",
   "version": "3.9.7"
  }
 },
 "nbformat": 4,
 "nbformat_minor": 5
}
